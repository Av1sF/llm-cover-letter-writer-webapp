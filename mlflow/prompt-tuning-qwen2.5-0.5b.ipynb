{
 "cells": [
  {
   "cell_type": "markdown",
   "metadata": {},
   "source": [
    "# Prompt Tuning Qwen2.5 0.5B\n",
    "\n",
    "Why prompt tune? \n",
    "- Faster adaptation to new tasks \n",
    "- Flexible method of adapting models to specific tasks\n",
    "\n",
    "Objectives to a good prompt: \n",
    "- Priortise information \n",
    "- Clear and Concise Language \n",
    "- Remove Unnecessary Information \n",
    "- Use prositive language \n",
    "- Specify Constraints \n",
    "- Provide Context \n",
    "- Test for clarity \n",
    "- Avoid Overly Long Prompts \n",
    "\n",
    "\n",
    "References: \n",
    "1) https://medium.com/@shahshreyansh20/prompt-tuning-a-powerful-technique-for-adapting-llms-to-new-tasks-6d6fd9b83557"
   ]
  },
  {
   "cell_type": "markdown",
   "metadata": {},
   "source": [
    "## Imports "
   ]
  },
  {
   "cell_type": "code",
   "execution_count": 2,
   "metadata": {},
   "outputs": [
    {
     "name": "stderr",
     "output_type": "stream",
     "text": [
      "c:\\Users\\ROG\\coursework-Av1sF\\.venv\\Lib\\site-packages\\tqdm\\auto.py:21: TqdmWarning: IProgress not found. Please update jupyter and ipywidgets. See https://ipywidgets.readthedocs.io/en/stable/user_install.html\n",
      "  from .autonotebook import tqdm as notebook_tqdm\n"
     ]
    }
   ],
   "source": [
    "# data \n",
    "import torch \n",
    "from datasets import load_dataset\n",
    "import pandas as pd\n",
    "from IPython.display import HTML, display\n",
    "\n",
    "# loading model and training \n",
    "from transformers import pipeline"
   ]
  },
  {
   "cell_type": "markdown",
   "metadata": {},
   "source": [
    "## Load Dataset"
   ]
  },
  {
   "cell_type": "code",
   "execution_count": 3,
   "metadata": {},
   "outputs": [],
   "source": [
    "# credit -> https://mlflow.org/docs/latest/llms/transformers/tutorials/fine-tuning/transformers-peft.html  (Apache-2.0 license) \n",
    "\n",
    "# displays sample of dataset \n",
    "def displayTable(datasetOrSample):\n",
    "    # A helper fuction to display a Transformer dataset or single sample contains multi-line string nicely\n",
    "    pd.set_option(\"display.max_colwidth\", None)\n",
    "    pd.set_option(\"display.width\", None)\n",
    "    pd.set_option(\"display.max_rows\", None)\n",
    "\n",
    "    if isinstance(datasetOrSample, dict):\n",
    "        df = pd.DataFrame(datasetOrSample, index=[0])\n",
    "    else:\n",
    "        df = pd.DataFrame(datasetOrSample)\n",
    "\n",
    "    html = df.to_html().replace(\"\\\\n\", \"<br>\")\n",
    "    styledHtml = f\"\"\"<style> .dataframe th, .dataframe tbody td {{ text-align: left; padding-right: 30px; }} </style> {html}\"\"\"\n",
    "    display(HTML(styledHtml))\n"
   ]
  },
  {
   "cell_type": "code",
   "execution_count": 4,
   "metadata": {},
   "outputs": [],
   "source": [
    "datasetName = \"ShashiVish/cover-letter-dataset\"\n",
    "\n",
    "# as we are just evaluating the model just use test split \n",
    "testDataset = load_dataset(datasetName, split=\"test[:10%]\")"
   ]
  },
  {
   "cell_type": "code",
   "execution_count": 5,
   "metadata": {},
   "outputs": [
    {
     "name": "stdout",
     "output_type": "stream",
     "text": [
      "Test dataset contains 35 cv-to-coverletter pairs\n",
      "['Job Title', 'Preferred Qualifications', 'Hiring Company', 'Applicant Name', 'Past Working Experience', 'Current Working Experience', 'Skillsets', 'Qualifications', 'Cover Letter']\n"
     ]
    }
   ],
   "source": [
    "print(f\"Test dataset contains {len(testDataset)} cv-to-coverletter pairs\")\n",
    "columnNames = list(testDataset.features)\n",
    "print(columnNames)"
   ]
  },
  {
   "cell_type": "markdown",
   "metadata": {},
   "source": [
    "Parse dataset into chat templating. Based on this documentation https://huggingface.co/docs/transformers/en/chat_templating\n",
    "\n",
    "An example of the chat templating format: \n",
    ">`messages = [ ` \\\n",
    "> `    {\"role\": \"user\", \"content\": \"Hi there!\"},`  \\\n",
    "> `    {\"role\": \"assistant\", \"content\": \"Nice to meet you!\"},`\\\n",
    ">`    {\"role\": \"user\", \"content\": \"Can I ask a question?\"}`\\\n",
    ">`]`"
   ]
  },
  {
   "cell_type": "code",
   "execution_count": 6,
   "metadata": {},
   "outputs": [],
   "source": [
    "def applyMessageTemplate(row): \n",
    "    messages = [\n",
    "         # Format database information into prompt \n",
    "        {\"content\": \n",
    "        f\"\"\"Generate Cover Letter using this information:\n",
    "        Job Title: {row['Job Title']}, Preferred Qualifications: {row['Preferred Qualifications']}, Hiring Company: {row['Hiring Company']}, Applicant Name: {row['Applicant Name']}, Past Working Experience: {row['Past Working Experience']}, Current Working Experience: {row['Current Working Experience']}, Skillsets:{row['Skillsets']}, Qualifications: {row['Qualifications']}\"\"\",\n",
    "        \"role\" : \"user\"},\n",
    "    ] \n",
    "    return {\"messages\":messages} "
   ]
  },
  {
   "cell_type": "code",
   "execution_count": 7,
   "metadata": {},
   "outputs": [
    {
     "data": {
      "text/html": [
       "<style> .dataframe th, .dataframe tbody td { text-align: left; padding-right: 30px; } </style> <table border=\"1\" class=\"dataframe\">\n",
       "  <thead>\n",
       "    <tr style=\"text-align: right;\">\n",
       "      <th></th>\n",
       "      <th>messages</th>\n",
       "    </tr>\n",
       "  </thead>\n",
       "  <tbody>\n",
       "    <tr>\n",
       "      <th>0</th>\n",
       "      <td>[{'content': 'Generate Cover Letter using this information:\n",
       "        Job Title:  Data Scientist, Preferred Qualifications: BSc focused on data Science/computer Science/engineering\n",
       "4+ years experience Developing and shipping production grade machine learning systems\n",
       "2+ years building and shipping data Science based personalization services and recommendation systems\n",
       "experience in data Science or machine learning engineering\n",
       "Strong analytical and data Science skills, Hiring Company: XYZ Corporation, Applicant Name: John Smith, Past Working Experience: Data Analyst at ABC Company, Current Working Experience: Machine Learning Engineer at DEF Company, Skillsets:Python, R, scikit-learn, Keras, Tensorflow, Qualifications: BSc in Computer Science, 5+ years of experience in data science and machine learning', 'role': 'user'}]</td>\n",
       "    </tr>\n",
       "  </tbody>\n",
       "</table>"
      ],
      "text/plain": [
       "<IPython.core.display.HTML object>"
      ]
     },
     "metadata": {},
     "output_type": "display_data"
    }
   ],
   "source": [
    "# transform dataset to chat templating \n",
    "testDataset = testDataset.map(applyMessageTemplate,\n",
    "                                  remove_columns=columnNames)\n",
    "\n",
    "# display our transformed dataset \n",
    "displayTable(testDataset.select(range(1)))"
   ]
  },
  {
   "cell_type": "code",
   "execution_count": 8,
   "metadata": {},
   "outputs": [],
   "source": [
    "modelName = \"Qwen/Qwen2.5-0.5B-Instruct\"\n",
    "\n",
    "# define the default pipeline \n",
    "pipe = pipeline(\"text-generation\", modelName, torch_dtype=\"auto\", device_map=\"auto\")\n",
    "pipe.tokenizer.padding_side=\"left\""
   ]
  },
  {
   "cell_type": "markdown",
   "metadata": {},
   "source": [
    "# Testing Prompts "
   ]
  },
  {
   "cell_type": "markdown",
   "metadata": {},
   "source": [
    "## 1) \"Generate a Cover Letter\""
   ]
  },
  {
   "cell_type": "code",
   "execution_count": null,
   "metadata": {},
   "outputs": [
    {
     "name": "stdout",
     "output_type": "stream",
     "text": [
      "[{'content': 'Generate a cover letter', 'role': 'system'}, {'content': 'Generate Cover Letter using this information:\\n        Job Title:  Data Scientist, Preferred Qualifications: BSc focused on data Science/computer Science/engineering\\n4+ years experience Developing and shipping production grade machine learning systems\\n2+ years building and shipping data Science based personalization services and recommendation systems\\nexperience in data Science or machine learning engineering\\nStrong analytical and data Science skills, Hiring Company: XYZ Corporation, Applicant Name: John Smith, Past Working Experience: Data Analyst at ABC Company, Current Working Experience: Machine Learning Engineer at DEF Company, Skillsets:Python, R, scikit-learn, Keras, Tensorflow, Qualifications: BSc in Computer Science, 5+ years of experience in data science and machine learning', 'role': 'user'}]\n"
     ]
    }
   ],
   "source": [
    "# get first record from dataset (we are inferencing without the last assistant prompt)\n",
    "systemPrompt = {\n",
    "    'content' : \"Generate a cover letter\", \n",
    "    'role' : 'system', \n",
    "}\n",
    "messageBatch = [systemPrompt, testDataset[0]['messages'][0]]\n",
    "# returns dictionary of chat templates \n",
    "print(messageBatch)\n",
    "\n",
    "# generate \n",
    "resultBatch = pipe(messageBatch, max_new_tokens=512, batch_size=2)\n"
   ]
  },
  {
   "cell_type": "code",
   "execution_count": null,
   "metadata": {},
   "outputs": [
    {
     "name": "stdout",
     "output_type": "stream",
     "text": [
      "Dear Hiring Manager,\n",
      "\n",
      "I am writing to express my enthusiasm for the Data Scientist position at XYZ Corporation. With over four years of experience in developing and shipping production-grade machine learning systems and building and shipping data science-based personalized services and recommendation systems, I have honed my analytical and data science skills.\n",
      "\n",
      "My academic background has provided me with a strong foundation in both computer science and engineering, which is crucial for the field of data science and machine learning. Additionally, my past work experience as a data analyst at ABC Company and current role as a Machine Learning Engineer at DEF Company have equipped me with the necessary technical skills to deliver high-quality solutions.\n",
      "\n",
      "In my previous roles, I have leveraged Python, R, Scikit-Learn, Keras, and TensorFlow to develop robust models that are capable of handling complex data sets. My expertise in these technologies allows me to build scalable and efficient predictive models, which is essential for delivering accurate results in real-world applications.\n",
      "\n",
      "Furthermore, I possess a deep understanding of data science methodologies and techniques, including supervised and unsupervised learning algorithms such as linear regression, decision trees, random forests, and neural networks. This knowledge enables me to identify patterns within large datasets and apply them to make informed decisions.\n",
      "\n",
      "Additionally, my experience with hiring companies like XYZ Corporation and DEF Company demonstrates my ability to adapt and collaborate effectively across different departments. My strong analytical and problem-solving skills, coupled with my ability to communicate effectively, will be valuable assets to any team seeking a Data Scientist.\n",
      "\n",
      "Thank you for considering my application. I look forward to the opportunity to discuss how my qualifications align with the requirements of the Data Scientist role at XYZ Corporation.\n",
      "\n",
      "Sincerely,\n",
      "John Smith\n"
     ]
    }
   ],
   "source": [
    "print(resultBatch[0]['generated_text'][-1]['content'])"
   ]
  },
  {
   "cell_type": "markdown",
   "metadata": {},
   "source": [
    "This prompt is clear and concise. However does not provide a good context to the user presented information. After running this prompt 10 times, the average inference time was 4m 51.4s on CPU. Which is not the fastest inference time. The prompt also seem to list the data given. "
   ]
  },
  {
   "cell_type": "markdown",
   "metadata": {},
   "source": [
    "## 2. \"You are a powerful cover letter generator. Generate a cover letter.\""
   ]
  },
  {
   "cell_type": "code",
   "execution_count": null,
   "metadata": {},
   "outputs": [
    {
     "name": "stdout",
     "output_type": "stream",
     "text": [
      "[{'content': 'You are a powerful cover letter generator. Generate a cover letter.', 'role': 'system'}, {'content': 'Generate Cover Letter using this information:\\n        Job Title:  Data Scientist, Preferred Qualifications: BSc focused on data Science/computer Science/engineering\\n4+ years experience Developing and shipping production grade machine learning systems\\n2+ years building and shipping data Science based personalization services and recommendation systems\\nexperience in data Science or machine learning engineering\\nStrong analytical and data Science skills, Hiring Company: XYZ Corporation, Applicant Name: John Smith, Past Working Experience: Data Analyst at ABC Company, Current Working Experience: Machine Learning Engineer at DEF Company, Skillsets:Python, R, scikit-learn, Keras, Tensorflow, Qualifications: BSc in Computer Science, 5+ years of experience in data science and machine learning', 'role': 'user'}]\n",
      "[Your Name]  \n",
      "[Your Address]  \n",
      "[City, State, Zip Code]  \n",
      "[Email Address]  \n",
      "[Phone Number]  \n",
      "[Date]\n",
      "\n",
      "[HR Manager's Name]  \n",
      "[Company Name]  \n",
      "[Address]  \n",
      "[City, State, Zip Code]\n",
      "\n",
      "Dear [HR Manager's Name],\n",
      "\n",
      "I am writing to express my interest in the Data Scientist position at [Company Name]. With over four years of experience in developing and shipping high-quality machine learning systems, as well as extensive work in building and shipping personalized data science-based recommendation systems, I believe I have the necessary skills and qualifications for this role.\n",
      "\n",
      "My academic background includes a Bachelor’s degree in Data Science/Computer Science/Engineering from XYZ University, where I honed my analytical and data science skills through rigorous coursework and practical projects. Additionally, I hold a strong foundation in Python, R, Scikit-Learn, Keras, and TensorFlow, which is crucial for developing scalable and robust machine learning models.\n",
      "\n",
      "In my current role at DEF Company, I worked as a Data Analyst, focusing on data analysis and reporting. My experience involved analyzing large datasets and providing actionable insights that informed business decisions. This experience has equipped me with excellent problem-solving abilities and a deep understanding of data science methodologies.\n",
      "\n",
      "Furthermore, I possess strong analytical and data science skills, which I bring to your team by bringing a fresh perspective and innovative approaches to solving complex problems. My proficiency in Python, R, and other related tools further enhances my ability to develop and maintain machine learning models.\n",
      "\n",
      "Additionally, I have demonstrated my capability to rapidly adapt to new technologies and methodologies within a company environment. This skillset allows me to quickly integrate new tools and techniques into existing workflows, ensuring optimal performance and efficiency.\n",
      "\n",
      "I am excited about the opportunity to contribute to your team at XYZ Corporation, where I can leverage my expertise in data science and machine learning to drive innovation and improve decision-making processes. I am eager to bring my diverse set of skills and experiences to your team and look forward to discussing how these qualifications align with the requirements of the Data Scientist role.\n",
      "\n",
      "Thank you for considering my application. I look forward to the possibility of contributing to your organization and achieving success in this exciting career path.\n",
      "\n",
      "Sincerely,\n",
      "\n",
      "John Smith\n",
      "\n",
      "---\n",
      "\n",
      "Feel free to modify any part of this template to better fit your specific situation and preferences.\n"
     ]
    }
   ],
   "source": [
    "# get first record from dataset (we are inferencing without the last assistant prompt)\n",
    "# You are a powerful cover letter generator. Generate a professional formal personalised cover letter based on job title, qualifications, hiring company name, applicant name, work experience, skills. The cover letter must be between 300 - 400 words.\n",
    "systemPrompt = {\n",
    "    'content' : \"You are a powerful cover letter generator. Generate a cover letter.\", \n",
    "    'role' : 'system', \n",
    "}\n",
    "messageBatch = [systemPrompt, testDataset[0]['messages'][0]]\n",
    "# returns dictionary of chat templates \n",
    "print(messageBatch)\n",
    "\n",
    "# generate \n",
    "resultBatch = pipe(messageBatch, max_new_tokens=512, batch_size=2)\n",
    "\n",
    "# print output \n",
    "print(resultBatch[0]['generated_text'][-1]['content'])"
   ]
  },
  {
   "cell_type": "markdown",
   "metadata": {},
   "source": [
    "This prompt gave positive affirmation to the model. However, that could constitute to providing unnecessary information. The average inference time was 6m 11.3s on CPU. It also contained addresses of the recipient and the employer. Though, to fit different contexts that the cover letter might be used in, it might be unneeded overhead and will be an unnecessary addition to the word count. The prompt also persistantly provides outputs with featuring the sentence, \"Feel free to modify any part of this template to better fit your specific situation and preferences\", which is not a desired sentence. Although, it uses some provided statistics in it's output. It also averages around 362 words."
   ]
  },
  {
   "cell_type": "markdown",
   "metadata": {},
   "source": [
    "## 3. \"You are a powerful cover letter generator. Generate a formal cover letter.\""
   ]
  },
  {
   "cell_type": "code",
   "execution_count": null,
   "metadata": {},
   "outputs": [
    {
     "name": "stdout",
     "output_type": "stream",
     "text": [
      "[{'content': 'You are a powerful cover letter generator. Generate a formal cover letter.', 'role': 'system'}, {'content': 'Generate Cover Letter using this information:\\n        Job Title:  Data Scientist, Preferred Qualifications: BSc focused on data Science/computer Science/engineering\\n4+ years experience Developing and shipping production grade machine learning systems\\n2+ years building and shipping data Science based personalization services and recommendation systems\\nexperience in data Science or machine learning engineering\\nStrong analytical and data Science skills, Hiring Company: XYZ Corporation, Applicant Name: John Smith, Past Working Experience: Data Analyst at ABC Company, Current Working Experience: Machine Learning Engineer at DEF Company, Skillsets:Python, R, scikit-learn, Keras, Tensorflow, Qualifications: BSc in Computer Science, 5+ years of experience in data science and machine learning', 'role': 'user'}]\n",
      "\n",
      "\n",
      "[Your Name]  \n",
      "[Your Address]  \n",
      "[City, State, Zip Code]  \n",
      "[Email Address]  \n",
      "[Phone Number]  \n",
      "[Date]\n",
      "\n",
      "[HR Manager's Name]  \n",
      "[Company Name]  \n",
      "[Company Address]  \n",
      "[City, State, Zip Code]\n",
      "\n",
      "Dear [HR Manager's Name],\n",
      "\n",
      "I am writing to express my strong interest in the Data Scientist position advertised by [Company Name]. With over four years of experience in developing and delivering high-quality machine learning systems, as well as extensive hands-on experience with personalization services and recommendation systems, I am confident that I have the necessary skills to contribute effectively to your team.\n",
      "\n",
      "In addition to my background in data science and machine learning, I possess a strong foundation in both Python and R programming, along with proficiency in scikit-learn, Keras, and TensorFlow. These tools have been instrumental in my ability to build scalable and efficient models for various industries. My previous work experience has also equipped me with the practical skills needed to develop and deploy machine learning solutions, ensuring they meet the highest standards of accuracy and performance.\n",
      "\n",
      "My current role as a Machine Learning Engineer at [DEF Company], where I was involved in designing and implementing custom algorithms for predictive analytics, highlights my commitment to innovation and problem-solving within complex data environments. This role has allowed me to leverage my expertise in data science and machine learning to identify opportunities for improvement and drive growth within the company.\n",
      "\n",
      "As an experienced Data Analyst at [ABC Company], my responsibilities included analyzing large datasets and providing insights to inform business decisions. This role provided me with hands-on experience in data management, data visualization, and the integration of various analytical techniques, which are critical components of effective data science practices.\n",
      "\n",
      "I am particularly drawn to the opportunity to collaborate closely with talented teams like yours, and I believe my combination of technical expertise, analytical skills, and a passion for technology will make me a valuable asset to your organization.\n",
      "\n",
      "Thank you for considering my application. I look forward to the possibility of discussing how my background and skills align with those of the hiring team at [XYZ Corporation].\n",
      "\n",
      "Sincerely,\n",
      "\n",
      "John Smith\n"
     ]
    }
   ],
   "source": [
    "# get first record from dataset (we are inferencing without the last assistant prompt)\n",
    "# You are a powerful cover letter generator. Generate a professional formal personalised cover letter based on job title, qualifications, hiring company name, applicant name, work experience, skills. The cover letter must be between 300 - 400 words.\n",
    "systemPrompt = {\n",
    "    'content' : \"You are a powerful cover letter generator. Generate a formal cover letter.\", \n",
    "    'role' : 'system', \n",
    "}\n",
    "messageBatch = [systemPrompt, testDataset[0]['messages'][0]]\n",
    "# returns dictionary of chat templates \n",
    "print(messageBatch)\n",
    "\n",
    "# generate \n",
    "resultBatch = pipe(messageBatch, max_new_tokens=512, batch_size=2)\n",
    "\n",
    "# print output \n",
    "print('\\n')\n",
    "print(resultBatch[0]['generated_text'][-1]['content']) "
   ]
  },
  {
   "cell_type": "markdown",
   "metadata": {},
   "source": [
    "This prompt was similar to [our last prompt](##2.-\"You-are-a-powerful-cover-letter-generator.-Generate-a-cover-letter.\") However, we have specified that we want a formal cover letter.  \n",
    "It does contain more formal output but was unable to insert data provided into it's output. For example, \"[ABC Company]\" was outputted instead of ABC Company. \n",
    "\n",
    "It averaged 5m 38.3s on CPU and 320 words. It used statistics in the given contexts which was emphasised by action verbs. Also has addresses. "
   ]
  },
  {
   "cell_type": "markdown",
   "metadata": {},
   "source": [
    "## 4. \"You are a powerful cover letter generator. Generate a professional formal personalised cover letter based on job title, qualifications, hiring company name, applicant name, work experience, skills.\""
   ]
  },
  {
   "cell_type": "code",
   "execution_count": null,
   "metadata": {},
   "outputs": [
    {
     "name": "stdout",
     "output_type": "stream",
     "text": [
      "[{'content': 'You are a powerful cover letter generator. Generate a professional formal personalised cover letter based on job title, qualifications, hiring company name, applicant name, work experience, skills.', 'role': 'system'}, {'content': 'Generate Cover Letter using this information:\\n        Job Title:  Data Scientist, Preferred Qualifications: BSc focused on data Science/computer Science/engineering\\n4+ years experience Developing and shipping production grade machine learning systems\\n2+ years building and shipping data Science based personalization services and recommendation systems\\nexperience in data Science or machine learning engineering\\nStrong analytical and data Science skills, Hiring Company: XYZ Corporation, Applicant Name: John Smith, Past Working Experience: Data Analyst at ABC Company, Current Working Experience: Machine Learning Engineer at DEF Company, Skillsets:Python, R, scikit-learn, Keras, Tensorflow, Qualifications: BSc in Computer Science, 5+ years of experience in data science and machine learning', 'role': 'user'}]\n",
      "\n",
      "\n",
      "[Your Name]  \n",
      "[Your Address]  \n",
      "[City, State, ZIP Code]  \n",
      "[Email Address]  \n",
      "[Phone Number]  \n",
      "\n",
      "[Date]\n",
      "\n",
      "[Employer’s Name]  \n",
      "[Company’s Address]  \n",
      "[City, State, ZIP Code]\n",
      "\n",
      "Dear [Employer’s Name],\n",
      "\n",
      "I am writing to express my enthusiasm for the Data Scientist position at XYZ Corporation. With over four years of experience in developing and shipping production-grade machine learning systems, I am confident that my background and skills make me an ideal candidate for this role.\n",
      "\n",
      "In my previous role as a Data Analyst at ABC Company, I honed my analytical and data science skills through rigorous training and practical application. My expertise lies in leveraging Python, R, and other relevant tools to process large datasets and extract insights from them. I have also worked extensively with Scikit-Learn, Keras, and TensorFlow, which are essential components of modern machine learning applications.\n",
      "\n",
      "Additionally, my background in machine learning engineering has provided me with a deep understanding of how to design and implement effective algorithms. This includes knowledge of supervised and unsupervised learning techniques, including clustering, regression, and classification. My proficiency in these areas allows me to develop robust models that can adapt to changing conditions and improve performance.\n",
      "\n",
      "My experience in both Data Science and machine learning engineering has equipped me with strong analytical and problem-solving abilities. I have developed several successful projects involving the analysis and optimization of complex data sets, ensuring that our solutions were not only accurate but also scalable and maintainable.\n",
      "\n",
      "As a current Machine Learning Engineer at DEF Company, I have leveraged my technical expertise to create cutting-edge machine learning algorithms that drive significant improvements in various business processes. These include predictive analytics, anomaly detection, and natural language processing, all of which require deep knowledge of data structures, programming languages, and algorithmic thinking.\n",
      "\n",
      "I am particularly drawn to your organization because of its reputation for innovation and commitment to excellence. Your team is known for their collaborative environment and innovative approaches to solving complex problems. I believe that my skills and experiences align perfectly with your requirements, and I am excited about the opportunity to contribute to your team and help shape the future of data science and machine learning.\n",
      "\n",
      "Thank you for considering my application. I look forward to the possibility of discussing how my skills and experience could be integrated into your team.\n",
      "\n",
      "Sincerely,\n",
      "\n",
      "John Smith\n"
     ]
    }
   ],
   "source": [
    "# get first record from dataset (we are inferencing without the last assistant prompt)\n",
    "systemPrompt = {\n",
    "    'content' : \"You are a powerful cover letter generator. Generate a professional formal personalised cover letter based on job title, qualifications, hiring company name, applicant name, work experience, skills.\", \n",
    "    'role' : 'system', \n",
    "}\n",
    "messageBatch = [systemPrompt, testDataset[0]['messages'][0]]\n",
    "# returns dictionary of chat templates \n",
    "print(messageBatch)\n",
    "\n",
    "# generate \n",
    "resultBatch = pipe(messageBatch, max_new_tokens=512, batch_size=2)\n",
    "\n",
    "# print output \n",
    "print('\\n')\n",
    "print(resultBatch[0]['generated_text'][-1]['content'])\n",
    "\n",
    "# 6m 25.4s on cpu \n",
    "# talks about soft skills \n",
    "# uses companie names without brackets \n",
    "# has name and address \n",
    "# 363"
   ]
  },
  {
   "cell_type": "markdown",
   "metadata": {},
   "source": [
    " - Long prompt that provided context to the given data fields from the user. \n",
    " - Mentions addresses, unneeded overhead. \n",
    " - Uses statistics \n",
    " - avg. 6m 25.4s on CPU \n",
    " - Talks about soft skills \n",
    " - 363 words avg. "
   ]
  },
  {
   "cell_type": "markdown",
   "metadata": {},
   "source": [
    "## 5. \"You are a helpful assistant who writes tailored Cover Letters.\""
   ]
  },
  {
   "cell_type": "code",
   "execution_count": null,
   "metadata": {},
   "outputs": [
    {
     "name": "stdout",
     "output_type": "stream",
     "text": [
      "[{'content': 'You are a helpful assistant who writes tailored Cover Letters.', 'role': 'system'}, {'content': 'Generate Cover Letter using this information:\\n        Job Title:  Data Scientist, Preferred Qualifications: BSc focused on data Science/computer Science/engineering\\n4+ years experience Developing and shipping production grade machine learning systems\\n2+ years building and shipping data Science based personalization services and recommendation systems\\nexperience in data Science or machine learning engineering\\nStrong analytical and data Science skills, Hiring Company: XYZ Corporation, Applicant Name: John Smith, Past Working Experience: Data Analyst at ABC Company, Current Working Experience: Machine Learning Engineer at DEF Company, Skillsets:Python, R, scikit-learn, Keras, Tensorflow, Qualifications: BSc in Computer Science, 5+ years of experience in data science and machine learning', 'role': 'user'}]\n",
      "\n",
      "\n",
      "Dear Hiring Manager,\n",
      "\n",
      "I am writing to express my strong interest in the Data Scientist position at XYZ Corporation. With over four years of experience developing and shipping production-grade machine learning systems, I have honed my expertise in both traditional data analysis techniques and modern machine learning methodologies.\n",
      "\n",
      "In addition to my previous roles as a Data Analyst at ABC Company, I have also successfully built and shipped data-driven personalization services and recommendation systems for clients across various industries. This includes leveraging Python, R, scikit-learn, Keras, and TensorFlow to develop robust predictive models that significantly enhance customer engagement and business outcomes.\n",
      "\n",
      "My background in data science and machine learning has equipped me with deep understanding of algorithms, statistical modeling, and practical application in real-world scenarios. I possess a proven track record of delivering high-quality results under tight deadlines, which aligns well with the requirements of the Data Scientist role at XYZ Corporation.\n",
      "\n",
      "I am particularly drawn to the opportunity to contribute to an innovative team that values creativity, collaboration, and continuous improvement. My analytical skills and data-driven approach make me an ideal fit for this role.\n",
      "\n",
      "Thank you for considering my application. I look forward to the possibility of discussing how my qualifications and experiences could benefit your organization.\n",
      "\n",
      "Sincerely,\n",
      "John Smith\n"
     ]
    }
   ],
   "source": [
    "# get first record from dataset (we are inferencing without the last assistant prompt)\n",
    "systemPrompt = {\n",
    "    'content' : \"You are a helpful assistant who writes tailored Cover Letters.\", \n",
    "    'role' : 'system', \n",
    "}\n",
    "messageBatch = [systemPrompt, testDataset[0]['messages'][0]]\n",
    "# returns dictionary of chat templates \n",
    "print(messageBatch)\n",
    "\n",
    "# generate \n",
    "resultBatch = pipe(messageBatch, max_new_tokens=512, batch_size=2)\n",
    "\n",
    "# print output \n",
    "print('\\n')\n",
    "print(resultBatch[0]['generated_text'][-1]['content'])"
   ]
  },
  {
   "cell_type": "markdown",
   "metadata": {},
   "source": [
    "- 3m 47.2s on CPU avg. \n",
    "- Quickest inference time \n",
    "- Does not mention addresses \n",
    "- Uses given statistics \n",
    "- Mentions soft skills \n",
    "- May hallunciate experiences \n",
    "- Average 251 words "
   ]
  },
  {
   "cell_type": "markdown",
   "metadata": {},
   "source": [
    "## 5.  \"You are a helpful assistant who writes tailored Cover Letters using the information given. The letter must be 250 to 450 words long.\""
   ]
  },
  {
   "cell_type": "code",
   "execution_count": 16,
   "metadata": {},
   "outputs": [
    {
     "name": "stdout",
     "output_type": "stream",
     "text": [
      "[{'content': 'You are a helpful assistant who writes tailored Cover Letters using the information given. The letter must be 250-450 words long.', 'role': 'system'}, {'content': 'Generate Cover Letter using this information:\\n        Job Title:  Data Scientist, Preferred Qualifications: BSc focused on data Science/computer Science/engineering\\n4+ years experience Developing and shipping production grade machine learning systems\\n2+ years building and shipping data Science based personalization services and recommendation systems\\nexperience in data Science or machine learning engineering\\nStrong analytical and data Science skills, Hiring Company: XYZ Corporation, Applicant Name: John Smith, Past Working Experience: Data Analyst at ABC Company, Current Working Experience: Machine Learning Engineer at DEF Company, Skillsets:Python, R, scikit-learn, Keras, Tensorflow, Qualifications: BSc in Computer Science, 5+ years of experience in data science and machine learning', 'role': 'user'}]\n",
      "\n",
      "\n",
      "Dear Hiring Manager,\n",
      "\n",
      "I am writing to express my interest in the Data Scientist position at XYZ Corporation. With over four years of experience developing and shipping production-grade machine learning systems, as well as two years of hands-on experience building and shipping data science-based personalized recommendation systems, I believe I have the necessary skills to contribute effectively to your team.\n",
      "\n",
      "My background includes extensive training in both data science and computer science/engineering, with a strong emphasis on analyzing complex datasets for insights and making informed decisions. My analytical skills and ability to work independently have allowed me to develop cutting-edge solutions that meet the demands of your company.\n",
      "\n",
      "In addition to my technical expertise, I bring a wealth of practical experience in data science or machine learning engineering. My past work experiences at ABC Company and DEF Company have equipped me with a comprehensive understanding of data analysis and machine learning algorithms. This knowledge has enabled me to design and implement sophisticated models that not only improve efficiency but also enhance customer satisfaction.\n",
      "\n",
      "As a skilled Python, R, scikit-learn, Keras, and TensorFlow engineer, I am adept at leveraging these tools to create robust predictive models. My proficiency in Python, which is widely used in data science projects, allows me to quickly adapt to new methodologies and integrate them into existing workflows seamlessly. Similarly, my familiarity with R, another popular language in data science, ensures that I can handle large datasets efficiently and accurately.\n",
      "\n",
      "Furthermore, my previous role as a data analyst at ABC Company provided me with valuable insights into how to analyze and interpret complex data sets. These observations have been instrumental in improving our decision-making processes and identifying areas where we could optimize our operations.\n",
      "\n",
      "With a passion for innovation and a keen eye for detail, I am confident that my skills and experience make me an excellent fit for the Data Scientist position at XYZ Corporation. I am excited about the opportunity to contribute to the development of groundbreaking machine learning technologies that will benefit your organization.\n",
      "\n",
      "Thank you for considering my application. I look forward to the possibility of discussing how my skills and experience align with the needs of XYZ Corporation further.\n",
      "\n",
      "Sincerely,\n",
      "John Smith\n"
     ]
    }
   ],
   "source": [
    "# get first record from dataset (we are inferencing without the last assistant prompt)\n",
    "systemPrompt = {\n",
    "    'content' : \"You are a helpful assistant who writes tailored Cover Letters using the information given. The letter must be 250-450 words long.\", \n",
    "    'role' : 'system', \n",
    "}\n",
    "\n",
    "messageBatch = [systemPrompt, testDataset[0]['messages'][0]]\n",
    "# returns dictionary of chat templates \n",
    "print(messageBatch)\n",
    "\n",
    "# generate \n",
    "resultBatch = pipe(messageBatch, max_new_tokens=512, batch_size=2)\n",
    "\n",
    "# print output \n",
    "print('\\n')\n",
    "print(resultBatch[0]['generated_text'][-1]['content'])"
   ]
  },
  {
   "cell_type": "markdown",
   "metadata": {},
   "source": [
    "- 5m 13.8s on CPU avg. \n",
    "- Does not mention addresses \n",
    "- Uses given statistics \n",
    "- 386 words avg.  \n",
    "- Mentions soft skills \n",
    "- May hallunciate experiences "
   ]
  },
  {
   "cell_type": "markdown",
   "metadata": {},
   "source": [
    "## 6. \"You are a helpful assistant who writes 250 to 450 word long tailored Cover Letters using the information given.\""
   ]
  },
  {
   "cell_type": "code",
   "execution_count": null,
   "metadata": {},
   "outputs": [
    {
     "name": "stdout",
     "output_type": "stream",
     "text": [
      "[{'content': 'You are a helpful assistant who writes 250 to 450 word long tailored Cover Letters using the information given.', 'role': 'system'}, {'content': 'Generate Cover Letter using this information:\\n        Job Title:  Data Scientist, Preferred Qualifications: BSc focused on data Science/computer Science/engineering\\n4+ years experience Developing and shipping production grade machine learning systems\\n2+ years building and shipping data Science based personalization services and recommendation systems\\nexperience in data Science or machine learning engineering\\nStrong analytical and data Science skills, Hiring Company: XYZ Corporation, Applicant Name: John Smith, Past Working Experience: Data Analyst at ABC Company, Current Working Experience: Machine Learning Engineer at DEF Company, Skillsets:Python, R, scikit-learn, Keras, Tensorflow, Qualifications: BSc in Computer Science, 5+ years of experience in data science and machine learning', 'role': 'user'}]\n",
      "\n",
      "\n",
      "Dear [Hiring Manager's Name],\n",
      "I am writing to express my enthusiasm for the Data Scientist position at XYZ Corporation. With over four years of experience in developing and shipping high-quality machine learning systems, as well as building and shipping personalized data science-based recommendation systems, I have honed my expertise in data science and machine learning.\n",
      "My previous work experience at ABC Company provided me with valuable insights into developing and deploying complex algorithms, while my current role as a Machine Learning Engineer at DEF Company has allowed me to apply these skills in real-world scenarios. I have a strong foundation in Python, R, scikit-learn, Keras, and Tensorflow, which will enable me to contribute effectively to both projects.\n",
      "In addition to my technical skills, I possess excellent analytical abilities and a keen interest in understanding the underlying principles behind machine learning models. My ability to think creatively and adapt quickly to new technologies has helped me excel in both projects and my previous roles.\n",
      "Please find attached my resume and cover letter for your review. Thank you for considering my application.\n",
      "Sincerely,\n",
      "John Smith\n"
     ]
    }
   ],
   "source": [
    "# get first record from dataset (we are inferencing without the last assistant prompt)\n",
    "systemPrompt = {\n",
    "    'content' : \"You are a helpful assistant who writes 250 to 450 word long tailored Cover Letters using the information given.\", \n",
    "    'role' : 'system', \n",
    "}\n",
    "messageBatch = [systemPrompt, testDataset[0]['messages'][0]]\n",
    "# returns dictionary of chat templates \n",
    "print(messageBatch)\n",
    "\n",
    "# generate \n",
    "resultBatch = pipe(messageBatch, max_new_tokens=512, batch_size=2)\n",
    "\n",
    "# print output \n",
    "print('\\n')\n",
    "print(resultBatch[0]['generated_text'][-1]['content'])"
   ]
  },
  {
   "cell_type": "markdown",
   "metadata": {},
   "source": [
    "- 3m 31.6s on CPU avg. \n",
    "- quick but 183 words avg. \n",
    "- uses statistics \n",
    "- Does not feature address"
   ]
  },
  {
   "cell_type": "markdown",
   "metadata": {},
   "source": [
    "# Conclusion \n",
    "\n",
    "Chosen prompt: \"You are a helpful assistant who writes tailored Cover Letters.\" \n",
    "\n",
    "As it is clear and concise. Uses the information given by the user. Contains positive language. Has the quickest inference time. But word length is not long but reasonable length. "
   ]
  }
 ],
 "metadata": {
  "kernelspec": {
   "display_name": ".venv",
   "language": "python",
   "name": "python3"
  },
  "language_info": {
   "codemirror_mode": {
    "name": "ipython",
    "version": 3
   },
   "file_extension": ".py",
   "mimetype": "text/x-python",
   "name": "python",
   "nbconvert_exporter": "python",
   "pygments_lexer": "ipython3",
   "version": "3.12.3"
  }
 },
 "nbformat": 4,
 "nbformat_minor": 2
}
